{
 "cells": [
  {
   "cell_type": "code",
   "execution_count": 1,
   "metadata": {},
   "outputs": [],
   "source": [
    "import torch\n",
    "import numpy as np\n",
    "from matplotlib import pyplot as plt\n",
    "from scipy import ndimage\n",
    "import os, sys\n",
    "import math\n",
    "import pickle\n",
    "import notebook_utils as nbutils\n",
    "import data_utils as datutil\n",
    "import datetime as dt\n",
    "import hmc\n",
    "from models import *\n",
    "import gpytorch\n",
    "from notebook_utils import *\n",
    "import mici"
   ]
  },
  {
   "cell_type": "code",
   "execution_count": 2,
   "metadata": {},
   "outputs": [],
   "source": [
    "class Identity(nn.Module):\n",
    "    def __init__(self):\n",
    "        super(Identity, self).__init__()\n",
    "        \n",
    "    def forward(self, x):\n",
    "        return x\n",
    "\n",
    "class bayes_fc_block(nn.Module):\n",
    "    def __init__(self, input_dim, output_dim, device):\n",
    "        super(bayes_fc_block, self).__init__()\n",
    "        self.register_parameter('fc_w', Parameter(torch.Tensor(input_dim, output_dim)))\n",
    "        self.register_parameter('fc_b', Parameter(torch.Tensor(output_dim)))\n",
    "        self.device = device\n",
    "        self.ind = input_dim\n",
    "        self.outd = output_dim\n",
    "        param_dict = dict(self.named_parameters())\n",
    "        stdv = 1. / math.sqrt(input_dim)\n",
    "        param_dict['fc_w'].data.uniform_(-stdv, stdv)\n",
    "        param_dict['fc_b'].data.uniform_(-stdv, stdv)\n",
    "\n",
    "    def forward(self, x):\n",
    "        param_dict = dict(self.named_parameters())\n",
    "        w = param_dict['fc_w']\n",
    "        b = param_dict['fc_b']\n",
    "        x = F.linear(x, w.t(), b)\n",
    "        return x    \n",
    "    \n",
    "    def change_param_to(self, flattened_param):\n",
    "        param_dict = dict(self.named_parameters())\n",
    "        w_data = torch.tensor(flattened_param[:self.ind*self.outd].reshape(self.ind, self.outd))\n",
    "        b_data = torch.tensor(flattened_param[self.ind*self.outd:].reshape(self.outd))\n",
    "        param_dict['fc_w'].data = w_data.type(torch.FloatTensor).to(self.device)\n",
    "        param_dict['fc_b'].data = b_data.type(torch.FloatTensor).to(self.device)\n",
    "        \n",
    "    def return_grads(self):\n",
    "        param_dict = dict(self.named_parameters())\n",
    "        w_grad = param_dict['fc_w'].grad.cpu()\n",
    "        b_grad = param_dict['fc_b'].grad.cpu()\n",
    "        w_grad = w_grad.detach().numpy().flatten()\n",
    "        b_grad = b_grad.detach().numpy().flatten()\n",
    "        return np.concatenate((w_grad, b_grad), axis=0)\n",
    "    \n",
    "    def return_paramval(self):\n",
    "        param_dict = dict(self.named_parameters())\n",
    "        w_data = param_dict['fc_w'].data.cpu()\n",
    "        b_data = param_dict['fc_b'].data.cpu()\n",
    "        w_data = w_data.detach().numpy().flatten()\n",
    "        b_data = b_data.detach().numpy().flatten()\n",
    "        return np.concatenate((w_data, b_data), axis=0)\n",
    "\n",
    "\n",
    "class feature(nn.Module):\n",
    "    def __init__(self, base_feature, fc_layers, device, trainloader, loss_dict=None):\n",
    "        super(feature, self).__init__()\n",
    "        self.base_layer = base_feature\n",
    "        self.fc_architecture = fc_layers\n",
    "        self.device = device\n",
    "        self.trainloader = trainloader\n",
    "        self.loss_dict = loss_dict\n",
    "        if len(fc_layers) > 0:\n",
    "            self.linear_list = [bayes_fc_block(fc_layers[i], fc_layers[i+1], device) for i in range(len(fc_layers)-1)]\n",
    "            self.bayes_fc_blocks = nn.Sequential(*self.linear_list)\n",
    "        \n",
    "    def forward(self, x, labels, samples):\n",
    "        # print(x.size())\n",
    "        x = self.base_layer(x)\n",
    "        out = 0\n",
    "        batch_size = x.size()[0]\n",
    "        num_sample = len(samples)\n",
    "        \n",
    "        for sample in samples:\n",
    "            current_index = 0\n",
    "            for layer_count in range(len(self.linear_list)):\n",
    "                layer_len = self.fc_architecture[layer_count+1] * (self.fc_architecture[layer_count] + 1)\n",
    "                flattened_param = sample[current_index: current_index + layer_len]\n",
    "                self.linear_list[layer_count].change_param_to(flattened_param)\n",
    "                current_index += layer_len\n",
    "                \n",
    "            last_layer = self.bayes_fc_blocks(x)\n",
    "            if self.loss_dict is None:\n",
    "                probs = F.softmax(last_layer, dim=1)\n",
    "                class_logprob = torch.log(torch.gather(probs, dim=1, index=labels.reshape((batch_size, 1))))\n",
    "                out -= torch.sum(class_logprob) / num_sample\n",
    "            else:\n",
    "                for loss_fn, weight in loss_dict.items():\n",
    "                    out += weight * loss_fn(last_layer, labels) / num_sample\n",
    "                \n",
    "        if num_sample==0:\n",
    "            last_layer = self.bayes_fc_blocks(x)\n",
    "            if self.loss_dict is None:\n",
    "                probs = F.softmax(last_layer, dim=1)\n",
    "                class_logprob = torch.log(torch.gather(probs, dim=1, index=labels.reshape((batch_size, 1))))\n",
    "                out -= torch.sum(class_logprob) / batch_size\n",
    "            else:\n",
    "                for loss_fn, weight in loss_dict.items():\n",
    "                    out += weight * loss_fn(last_layer, labels) / batch_size\n",
    "        \n",
    "        return out\n",
    "    \n",
    "    def infer(self, x, samples):\n",
    "        x = self.base_layer(x)\n",
    "        class_prob = torch.zeros((len(samples), x.size()[0], self.fc_architecture[-1]), device=self.device)\n",
    "        count = 0\n",
    "        \n",
    "        for sample in samples:\n",
    "            current_index = 0\n",
    "            for layer_count in range(len(self.linear_list)):\n",
    "                layer_len = self.fc_architecture[layer_count+1] * (self.fc_architecture[layer_count] + 1)\n",
    "                flattened_param = sample[current_index: current_index + layer_len]\n",
    "                self.linear_list[layer_count].change_param_to(flattened_param)\n",
    "                current_index += layer_len\n",
    "            \n",
    "            class_outp = self.bayes_fc_blocks(x)\n",
    "            class_prob[count,:,:] = F.softmax(class_outp, dim=1)\n",
    "            count += 1\n",
    "            \n",
    "        return class_prob\n",
    "    \n",
    "    def return_grads(self):\n",
    "        grads = [layer.return_grads() for layer in self.linear_list]\n",
    "        return np.concatenate(grads, axis=0)\n",
    "    \n",
    "    def return_paramval(self):\n",
    "        vals = [layer.return_paramval() for layer in self.linear_list]\n",
    "        return np.concatenate(vals, axis=0)\n",
    "    \n",
    "    def potential_energy(self, pos):\n",
    "    \n",
    "        total_datasize = len(self.trainloader.dataset)\n",
    "        pot_energy = 0\n",
    "        for i, data in enumerate(self.trainloader):\n",
    "            self.zero_grad()\n",
    "            inputs, labels = data\n",
    "            inputs = inputs.to(device)\n",
    "            labels = labels.to(device)\n",
    "            loss = self.forward(inputs, labels, [pos])\n",
    "            pot_energy += loss.item()\n",
    "        \n",
    "        pot_energy += np.sum(pos**2) / (2.0)\n",
    "        return pot_energy\n",
    "\n",
    "    def gradient_potential_energy(self, pos):\n",
    "\n",
    "        total_datasize = len(self.trainloader.dataset)\n",
    "        pot_energy = 0\n",
    "        grad_pot_energy = np.zeros(pos.shape)\n",
    "        for i, data in enumerate(self.trainloader):\n",
    "            self.zero_grad()\n",
    "            inputs, labels = data\n",
    "            inputs = inputs.to(device)\n",
    "            labels = labels.to(device)\n",
    "            loss = self.forward(inputs, labels, [pos])\n",
    "            loss.backward()\n",
    "            pot_energy += loss.item()\n",
    "            grad_pot_energy += self.return_grads()\n",
    "            \n",
    "        pot_energy += np.sum(pos**2) / (2.0)\n",
    "        grad_pot_energy += pos\n",
    "\n",
    "        return grad_pot_energy, pot_energy"
   ]
  },
  {
   "cell_type": "code",
   "execution_count": 3,
   "metadata": {},
   "outputs": [],
   "source": [
    "# Data loader initialization\n",
    "# trainloader = datutil.generate_dataloaders('CIFAR10_TRAIN', batch_size=100, shuffle=False, num_workers=2) #, end=48000)\n",
    "# testloader = datutil.generate_dataloaders('CIFAR10_TEST', batch_size=100, shuffle=False, num_workers=2)\n",
    "# trainloader = datutil.generate_dataloaders('ENCODED256_D164_CIFAR10_TRAIN', batch_size=500, shuffle=False, num_workers=2)\n",
    "# testloader = datutil.generate_dataloaders('ENCODED256_D164_CIFAR10_TEST', batch_size=200, shuffle=False, num_workers=2)\n",
    "trainloader = datutil.generate_dataloaders('48000RESNET164_CIFAR10_TRAIN', batch_size=300, shuffle=False, num_workers=2)\n",
    "testloader = datutil.generate_dataloaders('48000RESNET164_CIFAR10_TEST', batch_size=200, shuffle=False, num_workers=2)\n",
    "\n",
    "device = torch.device('cuda:1')"
   ]
  },
  {
   "cell_type": "code",
   "execution_count": 10,
   "metadata": {},
   "outputs": [
    {
     "data": {
      "text/plain": [
       "feature(\n",
       "  (base_layer): Identity()\n",
       "  (bayes_fc_blocks): Sequential(\n",
       "    (0): bayes_fc_block()\n",
       "  )\n",
       ")"
      ]
     },
     "execution_count": 10,
     "metadata": {},
     "output_type": "execute_result"
    }
   ],
   "source": [
    "fc_layer_setup = [256, 10]\n",
    "# base_model = PreResNet(num_classes=fc_layer_setup[-1], depth=164)\n",
    "base_model = Identity()\n",
    "# base_model.fc = Identity()\n",
    "loss_dict = None\n",
    "loss1 = nn.CrossEntropyLoss(reduction='sum')\n",
    "loss2 = limiting_ECE_loss(reduction='sum')\n",
    "loss1.to(device);loss2.to(device)\n",
    "loss_dict = {loss1: 1.} #, loss2: 10.}\n",
    "final_model = feature(base_model, fc_layer_setup, device, trainloader) #, loss_dict)\n",
    "final_model.to(device)"
   ]
  },
  {
   "cell_type": "code",
   "execution_count": 11,
   "metadata": {},
   "outputs": [
    {
     "name": "stdout",
     "output_type": "stream",
     "text": [
      "Epoch: 0 Loss: 0.546180784702301\n",
      "Epoch: 1 Loss: 0.37317922711372375\n",
      "Epoch: 2 Loss: 0.3485577404499054\n"
     ]
    }
   ],
   "source": [
    "running_loss = 0\n",
    "optimizer = torch.optim.SGD(final_model.parameters(), weight_decay=0.0003, lr=0.6, momentum=0.9)\n",
    "\n",
    "for epoch in range(0, 3):  # loop over the dataset multiple times\n",
    "\n",
    "    for i, data in enumerate(trainloader):\n",
    "\n",
    "        inputs, labels = data\n",
    "        inputs = inputs.to(device)\n",
    "        labels = labels.to(device)\n",
    "        optimizer.zero_grad()\n",
    "        loss = final_model(inputs, labels, [])\n",
    "        loss.sum().backward()\n",
    "        optimizer.step()\n",
    "        running_loss = 0.9*running_loss + 0.1*loss.item() if running_loss != 0 else loss.item()\n",
    "\n",
    "    print(\"Epoch:\", epoch, 'Loss:', loss.item())"
   ]
  },
  {
   "cell_type": "code",
   "execution_count": 12,
   "metadata": {
    "scrolled": false
   },
   "outputs": [
    {
     "data": {
      "text/plain": [
       "HBox(children=(IntProgress(value=0, description='Sampling', layout=Layout(flex='2'), max=20, style=ProgressSty…"
      ]
     },
     "metadata": {},
     "output_type": "display_data"
    },
    {
     "name": "stdout",
     "output_type": "stream",
     "text": [
      "\n"
     ]
    }
   ],
   "source": [
    "rng = np.random.RandomState(seed=1234)\n",
    "system = hmc.systems.EuclideanMetricSystem(pot_energy=final_model.potential_energy,\n",
    "                                           grad_pot_energy=final_model.gradient_potential_energy)\n",
    "integrator = hmc.integrators.LeapfrogIntegrator(system, step_size=0.05)\n",
    "sampler = hmc.samplers.StaticMetropolisHMC(system, integrator, rng, n_step=1)\n",
    "chains, chain_stats = sampler.sample_chain(\n",
    "    n_sample=20, init_state=final_model.return_paramval(),\n",
    "    chain_var_funcs={'pos': lambda state: state.pos,\n",
    "                     'pot_energy': lambda state: system.pot_energy(state),\n",
    "                     'kin_energy': lambda state: system.kin_energy(state)})"
   ]
  },
  {
   "cell_type": "code",
   "execution_count": null,
   "metadata": {},
   "outputs": [],
   "source": [
    "with open('chains2.pkl', 'wb') as chainfile:\n",
    "    pickle.dump(chains['pos'], chainfile)\n",
    "# with open('chains.pkl', 'rb') as chainfile:\n",
    "#     params = pickle.load(chainfile)"
   ]
  },
  {
   "cell_type": "code",
   "execution_count": 9,
   "metadata": {},
   "outputs": [
    {
     "name": "stdout",
     "output_type": "stream",
     "text": [
      "0.0\n"
     ]
    },
    {
     "data": {
      "image/png": "[encoded data removed]",
      "text/plain": [
       "<Figure size 864x288 with 1 Axes>"
      ]
     },
     "metadata": {
      "needs_background": "light"
     },
     "output_type": "display_data"
    }
   ],
   "source": [
    "import matplotlib.pyplot as plt\n",
    "%matplotlib inline\n",
    "fig, ax = plt.subplots(figsize=(12, 4))\n",
    "ax.plot(chains['pot_energy'])\n",
    "print(chain_stats['accept_prob'].mean())"
   ]
  },
  {
   "cell_type": "code",
   "execution_count": null,
   "metadata": {},
   "outputs": [],
   "source": [
    "# calculate accuracy and ECE on the test dataset\n",
    "accuracy, ece, sce = nbutils.validate(model=final_model, dataloader=testloader, device=device, \n",
    "                                      params=[np.mean(chains['pos'], axis=0)])"
   ]
  },
  {
   "cell_type": "code",
   "execution_count": null,
   "metadata": {},
   "outputs": [],
   "source": [
    "import imp\n",
    "imp.reload(nbutils)"
   ]
  },
  {
   "cell_type": "code",
   "execution_count": null,
   "metadata": {},
   "outputs": [],
   "source": [
    "np.mean(chains['pos'], axis=0)"
   ]
  }
 ],
 "metadata": {
  "kernelspec": {
   "display_name": "Python 3",
   "language": "python",
   "name": "python3"
  },
  "language_info": {
   "codemirror_mode": {
    "name": "ipython",
    "version": 3.0
   },
   "file_extension": ".py",
   "mimetype": "text/x-python",
   "name": "python",
   "nbconvert_exporter": "python",
   "pygments_lexer": "ipython3",
   "version": "3.7.3"
  }
 },
 "nbformat": 4,
 "nbformat_minor": 0
}