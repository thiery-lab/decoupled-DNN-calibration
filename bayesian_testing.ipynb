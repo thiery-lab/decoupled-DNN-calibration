{
 "cells": [
  {
   "cell_type": "code",
   "execution_count": null,
   "metadata": {},
   "outputs": [],
   "source": [
    "import torch\n",
    "import numpy as np\n",
    "import matplotlib\n",
    "from scipy import ndimage\n",
    "import os, sys\n",
    "import math\n",
    "import pickle\n",
    "import model_utils as modutil\n",
    "import data_utils as datutil\n",
    "import hmc"
   ]
  },
  {
   "cell_type": "code",
   "execution_count": null,
   "metadata": {
    "scrolled": true
   },
   "outputs": [],
   "source": [
    "# Data loader initialization\n",
    "trainloader1 = datutil.generate_dataloaders('CIFAR10_TRAIN', batch_size=50, shuffle=False, num_workers=2)\n",
    "testloader1 = datutil.generate_dataloaders('CIFAR10_TEST', batch_size=10, shuffle=False, num_workers=2)\n",
    "validloader1 = datutil.generate_dataloaders('CIFAR100_TEST', batch_size=10, shuffle=False, num_workers=2)\n",
    "\n",
    "trainloader2 = datutil.generate_dataloaders('GP+ENCODED256_D164_CIFAR10_TRAIN', batch_size=50, shuffle=True, num_workers=2)\n",
    "testloader2 = datutil.generate_dataloaders('GP+ENCODED256_D164_CIFAR10_TEST', batch_size=10, shuffle=False, num_workers=2)\n",
    "validloader2 = datutil.generate_dataloaders('GP+ENCODED256_D164_CIFAR10_VALID', batch_size=10, shuffle=False, num_workers=2)\n",
    "\n",
    "# Cifar-100 interesting classes (used during out-of-class entropy calculation)\n",
    "interesting_labels = [0, 1, 16, 17, 20, 21, 29, 39, 40, 49, 57, 71, 72, 73, 76]"
   ]
  },
  {
   "cell_type": "code",
   "execution_count": null,
   "metadata": {},
   "outputs": [],
   "source": [
    "trainloader1 = datutil.generate_dataloaders('DIAB_RETIN_TRAIN', batch_size=7, shuffle=True, num_workers=2)\n",
    "testloader1 = datutil.generate_dataloaders('DIAB_RETIN_TEST', batch_size=5, shuffle=False, num_workers=2)"
   ]
  },
  {
   "cell_type": "code",
   "execution_count": null,
   "metadata": {
    "scrolled": true
   },
   "outputs": [],
   "source": [
    "# model to train/load/analyse\n",
    "# user defined params\n",
    "models = [{'model_type' : \"PreResNet+GP\",     # <Kernel_name> + <GP>\n",
    "    'saved_checkpoint_name' : \"Initialized-PreResNet+GP_depth-164_lr-0.005_mom-0.9_wd-0.0001_FC-_acc-91.36-2019-08-19-16.22\",\n",
    "    'fc_setup' : [],\n",
    "    'load_model' : True,\n",
    "    'partial_load' : False,\n",
    "    'component_pretrained_mods' : ['encoded+GP_depth-110_lr-0.1_mom-0.9_wd-0.0003_FC-_acc-90.23-2019-08-02-15.03',\n",
    "                                   'ModifiedResNet-fixed_depth-110_lr-0.1_mom-0.9_wd-0.0001_FC-10_acc-90.92-2019-03-17-12.28'],\n",
    "\n",
    "#     'component_pretrained_mods' : ['encoded+GP_depth-164_lr-0.1_mom-0.9_wd-0.0001_FC-_acc-90.88-2019-08-13-17.08',\n",
    "#                                    'ModifiedResnet-fixed_depth-164_lr-0.1_mom-0.9_wd-0.0001_FC-10_acc-92.03-2019-04-28-03.10'],\n",
    "    'train_model' : False,\n",
    "    'train_epoch' : 5,\n",
    "    'num_classes' : 10,\n",
    "    'weight_decay' : 1e-4,\n",
    "    'predef_test_acc' : 92,\n",
    "    'depth' : 110,\n",
    "    'grid_size' : 64,\n",
    "    'optim_SGD' : True,\n",
    "    'device' : torch.device('cuda:2'),\n",
    "    'lr_init' : 0.008,\n",
    "    'lr_final' : 0.005,\n",
    "    'gp_kernel_feature' : 256, # 256, 640\n",
    "    'print_init_model_state' : False},]"
   ]
  },
  {
   "cell_type": "code",
   "execution_count": null,
   "metadata": {
    "scrolled": true
   },
   "outputs": [],
   "source": [
    "for model in models:\n",
    "    \n",
    "    if 'encoded' not in model['model_type']:\n",
    "        trainloader = trainloader1\n",
    "        testloader = testloader1\n",
    "        validloader = validloader1\n",
    "    else:\n",
    "        trainloader = trainloader2\n",
    "        testloader = testloader2\n",
    "        validloader = validloader2\n",
    "        \n",
    "    print('='*20, \"Loading Model\", '='*20)\n",
    "    modutil.refresh_params()\n",
    "    for propt in model:\n",
    "        if propt in modutil.__dict__:\n",
    "            modutil.__dict__[propt] = model[propt]\n",
    "        else:\n",
    "            print(\"Model property '%s' not found!\"%(propt))\n",
    "    \n",
    "    #load / train the model\n",
    "    modutil.load_train(trainloader, testloader, model['partial_load'])\n",
    "    if model['train_model']:\n",
    "        print(\"Saving model!\")\n",
    "        modutil.save_model()\n",
    "\n",
    "    # param_list = param_chain if 'mcmc' in model['model_type'] else []\n",
    "    # Perform evaluation on model\n",
    "    modutil.validate(\"out-of-class\", validloader, interesting_labels=interesting_labels)\n",
    "    print(\"Validation (out of class) data analysis performed\")\n",
    "\n",
    "    modutil.validate(\"test\", testloader)\n",
    "    print(\"Test data analysis performed\")\n"
   ]
  },
  {
   "cell_type": "code",
   "execution_count": null,
   "metadata": {},
   "outputs": [],
   "source": [
    "# directory = '/home/rahul/work/NN_with_prior_weights/swa-paper_experiments/saved_predictions/untitled/'\n",
    "directory = 'saved_predictions/'\n",
    "test_file = directory + models[0]['saved_checkpoint_name'] + '.testpred'\n",
    "prob_cutoffs = [(i+1)/30.0 for i in range(30)]\n",
    "\n",
    "with open(test_file, 'rb') as test_file:\n",
    "    stats = pickle.load(test_file)\n",
    "    targets = stats['targets']\n",
    "    preds = stats['predictions']\n",
    "    probs = stats['probs']\n",
    "    ece, ece_avg = modutil.calculate_ECE(probs, preds, targets, ECE_bin=prob_cutoffs)\n",
    "\n",
    "print(ece, ece_avg)"
   ]
  },
  {
   "cell_type": "code",
   "execution_count": null,
   "metadata": {},
   "outputs": [],
   "source": [
    "stats['loss']"
   ]
  },
  {
   "cell_type": "code",
   "execution_count": null,
   "metadata": {},
   "outputs": [],
   "source": [
    "modutil.encode_dump('GP+encoded164ResNet_CIFAR100_256.pt', trainloader)\n",
    "modutil.encode_dump('GP+encoded164ResNet_CIFAR100_256_test', testloader, evalmode=True)\n",
    "modutil.encode_dump('GP+encoded164ResNet_CIFAR100_256_valid', validloader1, evalmode=True)"
   ]
  }
 ],
 "metadata": {
  "kernelspec": {
   "display_name": "Python 3",
   "language": "python",
   "name": "python3"
  },
  "language_info": {
   "codemirror_mode": {
    "name": "ipython",
    "version": 3
   },
   "file_extension": ".py",
   "mimetype": "text/x-python",
   "name": "python",
   "nbconvert_exporter": "python",
   "pygments_lexer": "ipython3",
   "version": "3.7.3"
  }
 },
 "nbformat": 4,
 "nbformat_minor": 2
}
